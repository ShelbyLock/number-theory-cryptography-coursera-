{
 "cells": [
  {
   "cell_type": "markdown",
   "metadata": {},
   "source": [
    "## 1. Chinese Remainder Theorem"
   ]
  },
  {
   "cell_type": "code",
   "execution_count": 14,
   "metadata": {},
   "outputs": [],
   "source": [
    "def extended_gcd(a, b):\n",
    "    assert a >= b and b >= 0 and a + b > 0\n",
    "    if b == 0:\n",
    "        d, x, y = a, 1, 0\n",
    "    else:\n",
    "        (d, p, q) = extended_gcd(b, a % b)\n",
    "        x = q\n",
    "        y = p - q * (a // b)\n",
    "    return (d, x, y)\n",
    "\n",
    "def ChineseRemainderTheorem(n1, r1, n2, r2):\n",
    "    _, x, y = extended_gcd(n1, n2)\n",
    "    n = r1 * n2 * y + r2 * n1 * x\n",
    "    m = n1*n2\n",
    "    return n % m"
   ]
  },
  {
   "cell_type": "code",
   "execution_count": 17,
   "metadata": {},
   "outputs": [
    {
     "data": {
      "text/plain": [
       "579510303168901"
      ]
     },
     "execution_count": 17,
     "metadata": {},
     "output_type": "execute_result"
    }
   ],
   "source": [
    "ChineseRemainderTheorem(686579304, 295310485, 26855093, 8217207)"
   ]
  },
  {
   "cell_type": "markdown",
   "metadata": {},
   "source": [
    "## 2. Fast Modular Exponentiation"
   ]
  },
  {
   "cell_type": "code",
   "execution_count": 28,
   "metadata": {},
   "outputs": [],
   "source": [
    "def FastModularExponentiation(b, k, m):\n",
    "    for i in range(1,k+1):\n",
    "        print(\"b {} to the power of {}\".format(b, k))\n",
    "        b = (b*b)%m\n",
    "        print(\"equals to {}\".format(b))\n",
    "    return b"
   ]
  },
  {
   "cell_type": "code",
   "execution_count": 29,
   "metadata": {},
   "outputs": [
    {
     "name": "stdout",
     "output_type": "stream",
     "text": [
      "b 7 to the power of 4\n",
      "equals to 5\n",
      "b 5 to the power of 4\n",
      "equals to 3\n",
      "b 3 to the power of 4\n",
      "equals to 9\n",
      "b 9 to the power of 4\n",
      "equals to 4\n"
     ]
    },
    {
     "data": {
      "text/plain": [
       "4"
      ]
     },
     "execution_count": 29,
     "metadata": {},
     "output_type": "execute_result"
    }
   ],
   "source": [
    "FastModularExponentiation(7, 4, 11)"
   ]
  },
  {
   "cell_type": "code",
   "execution_count": 59,
   "metadata": {},
   "outputs": [],
   "source": [
    "def FastModularExponentiation(b, e, m):\n",
    "    output = 1\n",
    "    e_list = dec_to_bin(e)\n",
    "    print(e_list)\n",
    "    MEM = list()\n",
    "    MEM.append(b%m)\n",
    "    for k in range(1, len(e_list)):\n",
    "        print(\"b {} to the power of {}\".format(b, k))\n",
    "        b = (b*b)%m\n",
    "        MEM.append(b)\n",
    "        print(\"equals to {}\".format(b))\n",
    "    \n",
    "    for num,val in enumerate(reversed(list(e_list))):\n",
    "        if int(val) == 1:\n",
    "            print(\"#output is {}\".format(output))\n",
    "            print(\"current value is {}\".format(MEM[num]))\n",
    "            output = (output * MEM[num])%m\n",
    "    return output\n",
    "\n",
    "def dec_to_bin(x):\n",
    "    bi = list()\n",
    "    for x_i in bin(x)[2:]:\n",
    "        bi.append(x_i)\n",
    "        print(x_i)\n",
    "    return bi"
   ]
  },
  {
   "cell_type": "code",
   "execution_count": 37,
   "metadata": {},
   "outputs": [],
   "source": []
  },
  {
   "cell_type": "code",
   "execution_count": 60,
   "metadata": {},
   "outputs": [
    {
     "name": "stdout",
     "output_type": "stream",
     "text": [
      "1\n",
      "1\n",
      "0\n",
      "1\n",
      "['1', '1', '0', '1']\n",
      "b 7 to the power of 1\n",
      "equals to 5\n",
      "b 5 to the power of 2\n",
      "equals to 3\n",
      "b 3 to the power of 3\n",
      "equals to 9\n",
      "#output is 1\n",
      "current value is 7\n",
      "#output is 7\n",
      "current value is 3\n",
      "#output is 10\n",
      "current value is 9\n"
     ]
    },
    {
     "data": {
      "text/plain": [
       "2"
      ]
     },
     "execution_count": 60,
     "metadata": {},
     "output_type": "execute_result"
    }
   ],
   "source": [
    "FastModularExponentiation(7, 13, 11)"
   ]
  },
  {
   "cell_type": "code",
   "execution_count": 66,
   "metadata": {},
   "outputs": [
    {
     "data": {
      "text/plain": [
       "1"
      ]
     },
     "execution_count": 66,
     "metadata": {},
     "output_type": "execute_result"
    }
   ],
   "source": [
    "953%238"
   ]
  },
  {
   "cell_type": "code",
   "execution_count": null,
   "metadata": {},
   "outputs": [],
   "source": []
  }
 ],
 "metadata": {
  "kernelspec": {
   "display_name": "Python 3",
   "language": "python",
   "name": "python3"
  },
  "language_info": {
   "codemirror_mode": {
    "name": "ipython",
    "version": 3
   },
   "file_extension": ".py",
   "mimetype": "text/x-python",
   "name": "python",
   "nbconvert_exporter": "python",
   "pygments_lexer": "ipython3",
   "version": "3.8.3"
  }
 },
 "nbformat": 4,
 "nbformat_minor": 4
}
