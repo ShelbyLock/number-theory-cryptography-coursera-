{
 "cells": [
  {
   "cell_type": "markdown",
   "metadata": {},
   "source": [
    "# RSA"
   ]
  },
  {
   "cell_type": "code",
   "execution_count": 10,
   "metadata": {},
   "outputs": [],
   "source": [
    "import sys, threading\n",
    "\n",
    "\n",
    "sys.setrecursionlimit(10**7)\n",
    "threading.stack_size(2**27)\n",
    "\n",
    "\n",
    "def ConvertToInt(message_str):\n",
    "    res = 0\n",
    "    for i in range(len(message_str)):\n",
    "        res = res * 256 + ord(message_str[i])\n",
    "    return res\n",
    "\n",
    "def ConvertToStr(n):\n",
    "    res = \"\"\n",
    "    while n > 0:\n",
    "        res += chr(n % 256)\n",
    "        n //= 256\n",
    "    return res[::-1]\n",
    "\n",
    "def PowMod(a, n, mod):\n",
    "    if n == 0:\n",
    "        return 1 % mod\n",
    "    elif n == 1:\n",
    "        return a % mod\n",
    "    else:\n",
    "        b = PowMod(a, n // 2, mod)\n",
    "        b = b * b % mod\n",
    "        if n % 2 == 0:\n",
    "            return b\n",
    "        else:\n",
    "            return b * a % mod\n",
    "\n",
    "def ExtendedEuclid(a, b):\n",
    "    if b == 0:\n",
    "        return (1, 0)\n",
    "    (x, y) = ExtendedEuclid(b, a % b)\n",
    "    k = a // b\n",
    "    return (y, x - k * y)\n",
    "\n",
    "def InvertModulo(a, n):\n",
    "    (b, x) = ExtendedEuclid(a, n)\n",
    "    if b < 0:\n",
    "        b = (b % n + n) % n\n",
    "    return b"
   ]
  },
  {
   "cell_type": "code",
   "execution_count": 11,
   "metadata": {},
   "outputs": [],
   "source": [
    "# 1\n",
    "def Encrypt(message, modulo, exponent):\n",
    "    return PowMod(ConvertToInt(message), exponent, modulo)"
   ]
  },
  {
   "cell_type": "code",
   "execution_count": null,
   "metadata": {},
   "outputs": [],
   "source": []
  },
  {
   "cell_type": "code",
   "execution_count": 13,
   "metadata": {},
   "outputs": [
    {
     "name": "stdout",
     "output_type": "stream",
     "text": [
      "5\n",
      "attack\n"
     ]
    }
   ],
   "source": [
    "# 2\n",
    "def Decrypt(ciphertext, p, q, exponent):\n",
    "    phi = (p-1)*(q-1)\n",
    "    d = InvertModulo(exponent, phi)\n",
    "    return ConvertToStr(PowMod(ciphertext, d, p * q))\n",
    "  \n",
    "a = 3\n",
    "b = 7\n",
    "c = InvertModulo(a, b)\n",
    "print(c)\n",
    "\n",
    "p = 1000000007\n",
    "q = 1000000009\n",
    "exponent = 23917\n",
    "modulo = p * q\n",
    "\n",
    "ciphertext = Encrypt(\"attack\", modulo, exponent)\n",
    "message = Decrypt(ciphertext, p, q, exponent)\n",
    "print(message)"
   ]
  },
  {
   "cell_type": "code",
   "execution_count": null,
   "metadata": {},
   "outputs": [],
   "source": [
    "# 3\n",
    "def DecipherSimple(ciphertext, modulo, exponent, potential_messages):\n",
    "    for message in potential_messages:\n",
    "        if ciphertext == Encrypt(message, modulo, exponent):\n",
    "            return message\n",
    "    return \"don't know\"\n",
    "\n",
    "modulo = 101\n",
    "exponent = 12\n",
    "ciphertext = Encrypt(\"attack\", modulo, exponent)\n",
    "print(ciphertext)\n",
    "print(DecipherSimple(ciphertext, modulo, exponent, [\"attack\", \"don't attack\", \"wait\"]))"
   ]
  },
  {
   "cell_type": "code",
   "execution_count": 18,
   "metadata": {},
   "outputs": [
    {
     "name": "stdout",
     "output_type": "stream",
     "text": [
      "\u0001\n"
     ]
    }
   ],
   "source": [
    "# 4\n",
    "def hasNumbers(inputString):\n",
    "    return any(char.isdigit() for char in inputString)\n",
    "\n",
    "def DecipherSmallPrime(ciphertext, modulo, exponent):\n",
    "    small_prime = 2\n",
    "    while small_prime <= 1000000:\n",
    "        if modulo % small_prime == 0:\n",
    "            big_prime = modulo // small_prime\n",
    "            m = Decrypt(ciphertext, small_prime, big_prime, exponent)\n",
    "            print(m)\n",
    "            if not hasNumbers(m):\n",
    "                return m\n",
    "        small_prime += 1\n",
    "    return \"don't know\"\n",
    "\n",
    "#modulo = 101 * 18298970732541109011012304219376080251334480295537316123696052970419466495220522723330315111017831737980079504337868198011077274303193766040393009648852841770668239779097280026631944319501437547002412556176186750790476901358334138818777298389724049250700606462316428106882097210008142941838672676714188593227684360287806974345181893018133710957167334490627178666071809992955566020058374505477745993383434501768887090900283569055646901291270870833498474402084748161755197005050874785474707550376333429671113753137201128897550014524209754619355308207537703754006699795711188492048286436285518105948050401762394690148387\n",
    "#exponent = 239\n",
    "#ciphertext = Encrypt(\"attack\", modulo, exponent)\n",
    "#print(DecipherSmallPrime(ciphertext, modulo, exponent))\n",
    "ciphertext = 1\n",
    "modulo = 100000000000000000\n",
    "exponent = 1\n",
    "decrypt_third_puzzle = DecipherSmallPrime(ciphertext, modulo, exponent)\n",
    "print(decrypt_third_puzzle)"
   ]
  },
  {
   "cell_type": "code",
   "execution_count": null,
   "metadata": {},
   "outputs": [],
   "source": [
    "# 5\n",
    "def IntSqrt(n):\n",
    "    low = 1\n",
    "    high = n\n",
    "    iterations = 0\n",
    "    while low < high and iterations < 5000:\n",
    "        iterations += 1\n",
    "        mid = (low + high + 1) // 2\n",
    "        if mid * mid <= n:\n",
    "            low = mid\n",
    "        else:\n",
    "            high = mid - 1\n",
    "    return low\n",
    "\n",
    "def DecipherSmallDiff(ciphertext, modulo, exponent):\n",
    "    sqrt_modulo = IntSqrt(modulo)\n",
    "    small_prime = sqrt_modulo\n",
    "    while small_prime > sqrt_modulo - 5000:\n",
    "        if modulo % small_prime == 0:\n",
    "            big_prime = modulo // small_prime \n",
    "            m = Decrypt(ciphertext, small_prime, big_prime, exponent)\n",
    "            return m\n",
    "        small_prime-=1\n",
    "    return \"don't know\"\n",
    "  \n",
    "p = 1000000007\n",
    "q = 1000000009\n",
    "n = p * q\n",
    "e = 239\n",
    "ciphertext = Encrypt(\"attack\", n, e)\n",
    "message = DecipherSmallDiff(ciphertext, n, e)\n",
    "print(ciphertext)\n",
    "print(message)"
   ]
  },
  {
   "cell_type": "code",
   "execution_count": 6,
   "metadata": {},
   "outputs": [
    {
     "ename": "NameError",
     "evalue": "name 'PowMod' is not defined",
     "output_type": "error",
     "traceback": [
      "\u001b[0;31m---------------------------------------------------------------------------\u001b[0m",
      "\u001b[0;31mNameError\u001b[0m                                 Traceback (most recent call last)",
      "\u001b[0;32m<ipython-input-6-3eb3a5d218e6>\u001b[0m in \u001b[0;36m<module>\u001b[0;34m\u001b[0m\n\u001b[1;32m     31\u001b[0m \u001b[0mfirst_exponent\u001b[0m \u001b[0;34m=\u001b[0m \u001b[0;36m239\u001b[0m\u001b[0;34m\u001b[0m\u001b[0;34m\u001b[0m\u001b[0m\n\u001b[1;32m     32\u001b[0m \u001b[0msecond_exponent\u001b[0m \u001b[0;34m=\u001b[0m \u001b[0;36m17\u001b[0m\u001b[0;34m\u001b[0m\u001b[0;34m\u001b[0m\u001b[0m\n\u001b[0;32m---> 33\u001b[0;31m \u001b[0mfirst_ciphertext\u001b[0m \u001b[0;34m=\u001b[0m \u001b[0mEncrypt\u001b[0m\u001b[0;34m(\u001b[0m\u001b[0;34m\"A Caucus-Race and a Long Tale\"\u001b[0m\u001b[0;34m,\u001b[0m \u001b[0mfirst_modulo\u001b[0m\u001b[0;34m,\u001b[0m \u001b[0mfirst_exponent\u001b[0m\u001b[0;34m)\u001b[0m\u001b[0;34m\u001b[0m\u001b[0;34m\u001b[0m\u001b[0m\n\u001b[0m\u001b[1;32m     34\u001b[0m \u001b[0msecond_ciphertext\u001b[0m \u001b[0;34m=\u001b[0m \u001b[0mEncrypt\u001b[0m\u001b[0;34m(\u001b[0m\u001b[0;34m\"A Caucus-Race and a Long Tale\"\u001b[0m\u001b[0;34m,\u001b[0m \u001b[0msecond_modulo\u001b[0m\u001b[0;34m,\u001b[0m \u001b[0msecond_exponent\u001b[0m\u001b[0;34m)\u001b[0m\u001b[0;34m\u001b[0m\u001b[0;34m\u001b[0m\u001b[0m\n\u001b[1;32m     35\u001b[0m \u001b[0mprint\u001b[0m\u001b[0;34m(\u001b[0m\u001b[0mDecipherCommonDivisor\u001b[0m\u001b[0;34m(\u001b[0m\u001b[0mfirst_ciphertext\u001b[0m\u001b[0;34m,\u001b[0m \u001b[0mfirst_modulo\u001b[0m\u001b[0;34m,\u001b[0m \u001b[0mfirst_exponent\u001b[0m\u001b[0;34m,\u001b[0m \u001b[0msecond_ciphertext\u001b[0m\u001b[0;34m,\u001b[0m \u001b[0msecond_modulo\u001b[0m\u001b[0;34m,\u001b[0m \u001b[0msecond_exponent\u001b[0m\u001b[0;34m)\u001b[0m\u001b[0;34m)\u001b[0m\u001b[0;34m\u001b[0m\u001b[0;34m\u001b[0m\u001b[0m\n",
      "\u001b[0;32m<ipython-input-5-3d674e75fca4>\u001b[0m in \u001b[0;36mEncrypt\u001b[0;34m(message, modulo, exponent)\u001b[0m\n\u001b[1;32m      2\u001b[0m \u001b[0;32mdef\u001b[0m \u001b[0mEncrypt\u001b[0m\u001b[0;34m(\u001b[0m\u001b[0mmessage\u001b[0m\u001b[0;34m,\u001b[0m \u001b[0mmodulo\u001b[0m\u001b[0;34m,\u001b[0m \u001b[0mexponent\u001b[0m\u001b[0;34m)\u001b[0m\u001b[0;34m:\u001b[0m\u001b[0;34m\u001b[0m\u001b[0;34m\u001b[0m\u001b[0m\n\u001b[1;32m      3\u001b[0m   \u001b[0;31m# Fix this implementation\u001b[0m\u001b[0;34m\u001b[0m\u001b[0;34m\u001b[0m\u001b[0;34m\u001b[0m\u001b[0m\n\u001b[0;32m----> 4\u001b[0;31m   \u001b[0;32mreturn\u001b[0m \u001b[0mPowMod\u001b[0m\u001b[0;34m(\u001b[0m\u001b[0mConvertToInt\u001b[0m\u001b[0;34m(\u001b[0m\u001b[0mmessage\u001b[0m\u001b[0;34m)\u001b[0m\u001b[0;34m,\u001b[0m \u001b[0mexponent\u001b[0m\u001b[0;34m,\u001b[0m \u001b[0mmodulo\u001b[0m\u001b[0;34m)\u001b[0m\u001b[0;34m\u001b[0m\u001b[0;34m\u001b[0m\u001b[0m\n\u001b[0m",
      "\u001b[0;31mNameError\u001b[0m: name 'PowMod' is not defined"
     ]
    }
   ],
   "source": [
    "# 6\n",
    "def GCD(a, b):\n",
    "    if b == 0:\n",
    "        return a\n",
    "    return GCD(b, a % b)\n",
    "\n",
    "def hasNumbers(inputString):\n",
    "    return any(char.isdigit() for char in inputString)\n",
    "\n",
    "def testCommonPrime(common_prime, first_ciphertext, first_modulo, first_exponent, second_ciphertext, second_modulo, second_exponent):\n",
    "    q1 = first_modulo // common_prime\n",
    "    q2 = second_modulo // common_prime\n",
    "    m1 = Decrypt(first_ciphertext, common_prime, q1, first_exponent)\n",
    "    m2 = Decrypt(second_ciphertext, common_prime, q2, second_exponent)\n",
    "    return (m1, m2)\n",
    "\n",
    "def DecipherCommonDivisor(first_ciphertext, first_modulo, first_exponent, second_ciphertext, second_modulo, second_exponent):\n",
    "  # Fix this implementation to correctly decipher both messages in case\n",
    "  # first_modulo and second_modulo share a prime factor, and return\n",
    "  # a pair (first_message, second_message). The implementation below won't work\n",
    "  # if the common_prime is bigger than 1000000.\n",
    "    common_prime = GCD(first_modulo, second_modulo)\n",
    "    (m1, m2) = testCommonPrime(common_prime, first_ciphertext, first_modulo, first_exponent, second_ciphertext, second_modulo, second_exponent)\n",
    "    return (m1, m2)\n",
    "  \n",
    "    for common_prime in range(2, 1000000):\n",
    "        if first_modulo % common_prime == 0 and second_modulo % common_prime == 0:\n",
    "            (m1, m2) = testCommonPrime(common_prime, first_ciphertext, first_modulo, first_exponent, second_ciphertext, second_modulo, second_exponent)\n",
    "            return (m1, m2)\n",
    "    return (\"unknown message 1\", \"unknown message 2\")\n",
    "  \n",
    "# Example usage with common prime p and different second primes q1 and q2  \n",
    "p = 101\n",
    "q1 = 18298970732541109011012304219376080251334480295537316123696052970419466495220522723330315111017831737980079504337868198011077274303193766040393009648852841770668239779097280026631944319501437547002412556176186750790476901358334138818777298389724049250700606462316428106882097210008142941838672676714188593227684360287806974345181893018133710957167334490627178666071809992955566020058374505477745993383434501768887090900283569055646901291270870833498474402084748161755197005050874785474707550376333429671113753137201128897550014524209754619355308207537703754006699795711188492048286436285518105948050401762394690148387\n",
    "q2 = 1000000007\n",
    "first_modulo = p * q1\n",
    "second_modulo = p * q2\n",
    "first_exponent = 239\n",
    "second_exponent = 17\n",
    "first_ciphertext = Encrypt(\"a Long Tale\", first_modulo, first_exponent)\n",
    "second_ciphertext = Encrypt(\"Atck\", second_modulo, second_exponent)\n",
    "print(DecipherCommonDivisor(first_ciphertext, first_modulo, first_exponent, second_ciphertext, second_modulo, second_exponent))"
   ]
  },
  {
   "cell_type": "code",
   "execution_count": null,
   "metadata": {},
   "outputs": [],
   "source": [
    "# 7\n",
    "def DecipherHastad(first_ciphertext, first_modulo, second_ciphertext, second_modulo):\n",
    "  # Fix this implementation\n",
    "  r = ChineseRemainderTheorem(first_modulo, first_ciphertext, second_modulo, second_ciphertext)\n",
    "  return ConvertToStr(IntSqrt(r))\n",
    "  \n",
    "\n",
    "p1 = 790383132652258876190399065097\n",
    "q1 = 662503581792812531719955475509\n",
    "p2 = 656917682542437675078478868539\n",
    "q2 = 1263581691331332127259083713503\n",
    "n1 = p1 * q1\n",
    "n2 = p2 * q2\n",
    "ciphertext1 = Encrypt(\"attack\", n1, 2)\n",
    "ciphertext2 = Encrypt(\"attack\", n2, 2)\n",
    "message = DecipherHastad(ciphertext1, n1, ciphertext2, n2)\n",
    "print(message)"
   ]
  },
  {
   "cell_type": "code",
   "execution_count": 3,
   "metadata": {},
   "outputs": [
    {
     "data": {
      "text/plain": [
       "True"
      ]
     },
     "execution_count": 3,
     "metadata": {},
     "output_type": "execute_result"
    }
   ],
   "source": [
    "\"ACaucusRaceandaLongTale\".isalpha()"
   ]
  },
  {
   "cell_type": "code",
   "execution_count": null,
   "metadata": {},
   "outputs": [],
   "source": []
  }
 ],
 "metadata": {
  "kernelspec": {
   "display_name": "Python 3",
   "language": "python",
   "name": "python3"
  },
  "language_info": {
   "codemirror_mode": {
    "name": "ipython",
    "version": 3
   },
   "file_extension": ".py",
   "mimetype": "text/x-python",
   "name": "python",
   "nbconvert_exporter": "python",
   "pygments_lexer": "ipython3",
   "version": "3.8.3"
  }
 },
 "nbformat": 4,
 "nbformat_minor": 4
}
