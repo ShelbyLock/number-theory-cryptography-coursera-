{
 "cells": [
  {
   "cell_type": "markdown",
   "metadata": {},
   "source": [
    "## 1. Least Common Multiple"
   ]
  },
  {
   "cell_type": "code",
   "execution_count": 15,
   "metadata": {},
   "outputs": [],
   "source": [
    "def gcd(a, b):\n",
    "    if b == 0:\n",
    "        return a\n",
    "    return gcd(b,a%b)\n",
    "\n",
    "def lcm(a, b):\n",
    "    assert a > 0 and b > 0\n",
    "    d = gcd(a, b)\n",
    "    return (a * b)/d"
   ]
  },
  {
   "cell_type": "markdown",
   "metadata": {},
   "source": [
    "## 2. Diophantine Equations"
   ]
  },
  {
   "cell_type": "code",
   "execution_count": 18,
   "metadata": {},
   "outputs": [],
   "source": [
    "def extended_gcd(a, b):\n",
    "    assert a >= b and b >= 0 and a + b > 0\n",
    "    if b == 0:\n",
    "        d, x, y = a, 1, 0\n",
    "    else:\n",
    "        (d, p, q) = extended_gcd(b, a % b)\n",
    "        x = q\n",
    "        y = p - q * (a // b)\n",
    "    return (d, x, y)\n",
    "\n",
    "def diophantine(a, b, c):\n",
    "    EXCHANGED = False\n",
    "    if a < b:\n",
    "        temp = b\n",
    "        b = a\n",
    "        a = temp\n",
    "        EXCHANGED = True\n",
    "    d, x, y = extended_gcd(a, b)\n",
    "    if EXCHANGED:\n",
    "        temp = x\n",
    "        x = y\n",
    "        y = temp\n",
    "    assert c % d == 0\n",
    "    beta = c/d\n",
    "    # return (x, y) such that a * x + b * y = c\n",
    "    return x*beta,y*beta\n"
   ]
  },
  {
   "cell_type": "code",
   "execution_count": 17,
   "metadata": {},
   "outputs": [
    {
     "data": {
      "text/plain": [
       "(2.0, -6.0)"
      ]
     },
     "execution_count": 17,
     "metadata": {},
     "output_type": "execute_result"
    }
   ],
   "source": [
    "diophantine(24, 9, -6)"
   ]
  },
  {
   "cell_type": "code",
   "execution_count": 19,
   "metadata": {},
   "outputs": [
    {
     "data": {
      "text/plain": [
       "(6.0, 0.0)"
      ]
     },
     "execution_count": 19,
     "metadata": {},
     "output_type": "execute_result"
    }
   ],
   "source": [
    "diophantine(3, 6, 18)"
   ]
  },
  {
   "cell_type": "markdown",
   "metadata": {},
   "source": [
    "## 3.Modular Division: Code"
   ]
  },
  {
   "cell_type": "code",
   "execution_count": 25,
   "metadata": {},
   "outputs": [],
   "source": [
    "def extended_gcd(a, b):\n",
    "    assert a >= b and b >= 0 and a + b > 0\n",
    "    if b == 0:\n",
    "        d, x, y = a, 1, 0\n",
    "    else:\n",
    "        (d, p, q) = extended_gcd(b, a % b)\n",
    "        x = q\n",
    "        y = p - q * (a // b)\n",
    "    return (d, x, y)\n",
    "\n",
    "def divide(a, b, n):\n",
    "    EXCHANGED = False\n",
    "    if a > n:\n",
    "        temp = a\n",
    "        a = n\n",
    "        n = temp\n",
    "        EXCHANGED = True\n",
    "    d, x, y = extended_gcd(n, a)\n",
    "    assert n > 1 and a > 0 and d == 1\n",
    "    if EXCHANGED:\n",
    "        temp = x\n",
    "        x = y\n",
    "        y = temp\n",
    "    inverse_a_mod_n = y % n\n",
    "    return (b * inverse_a_mod_n) % n"
   ]
  },
  {
   "cell_type": "code",
   "execution_count": 26,
   "metadata": {},
   "outputs": [
    {
     "data": {
      "text/plain": [
       "3"
      ]
     },
     "execution_count": 26,
     "metadata": {},
     "output_type": "execute_result"
    }
   ],
   "source": [
    "divide(1, 3, 4)"
   ]
  },
  {
   "cell_type": "code",
   "execution_count": null,
   "metadata": {},
   "outputs": [],
   "source": []
  }
 ],
 "metadata": {
  "kernelspec": {
   "display_name": "Python 3",
   "language": "python",
   "name": "python3"
  },
  "language_info": {
   "codemirror_mode": {
    "name": "ipython",
    "version": 3
   },
   "file_extension": ".py",
   "mimetype": "text/x-python",
   "name": "python",
   "nbconvert_exporter": "python",
   "pygments_lexer": "ipython3",
   "version": "3.8.3"
  }
 },
 "nbformat": 4,
 "nbformat_minor": 4
}
