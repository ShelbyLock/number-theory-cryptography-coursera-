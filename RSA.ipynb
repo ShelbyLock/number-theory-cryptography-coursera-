{
 "cells": [
  {
   "cell_type": "markdown",
   "metadata": {},
   "source": [
    "# RSA"
   ]
  },
  {
   "cell_type": "code",
   "execution_count": 10,
   "metadata": {},
   "outputs": [],
   "source": [
    "import sys, threading\n",
    "\n",
    "\n",
    "sys.setrecursionlimit(10**7)\n",
    "threading.stack_size(2**27)\n",
    "\n",
    "\n",
    "def ConvertToInt(message_str):\n",
    "    res = 0\n",
    "    for i in range(len(message_str)):\n",
    "        res = res * 256 + ord(message_str[i])\n",
    "    return res\n",
    "\n",
    "def ConvertToStr(n):\n",
    "    res = \"\"\n",
    "    while n > 0:\n",
    "        res += chr(n % 256)\n",
    "        n //= 256\n",
    "    return res[::-1]\n",
    "\n",
    "def PowMod(a, n, mod):\n",
    "    if n == 0:\n",
    "        return 1 % mod\n",
    "    elif n == 1:\n",
    "        return a % mod\n",
    "    else:\n",
    "        b = PowMod(a, n // 2, mod)\n",
    "        b = b * b % mod\n",
    "        if n % 2 == 0:\n",
    "            return b\n",
    "        else:\n",
    "            return b * a % mod\n",
    "\n",
    "def ExtendedEuclid(a, b):\n",
    "    if b == 0:\n",
    "        return (1, 0)\n",
    "    (x, y) = ExtendedEuclid(b, a % b)\n",
    "    k = a // b\n",
    "    return (y, x - k * y)\n",
    "\n",
    "def InvertModulo(a, n):\n",
    "    (b, x) = ExtendedEuclid(a, n)\n",
    "    if b < 0:\n",
    "        b = (b % n + n) % n\n",
    "    return b"
   ]
  },
  {
   "cell_type": "code",
   "execution_count": 11,
   "metadata": {},
   "outputs": [],
   "source": [
    "# 1\n",
    "def Encrypt(message, modulo, exponent):\n",
    "    return PowMod(ConvertToInt(message), exponent, modulo)"
   ]
  },
  {
   "cell_type": "code",
   "execution_count": null,
   "metadata": {},
   "outputs": [],
   "source": []
  },
  {
   "cell_type": "code",
   "execution_count": 13,
   "metadata": {},
   "outputs": [
    {
     "name": "stdout",
     "output_type": "stream",
     "text": [
      "5\n",
      "attack\n"
     ]
    }
   ],
   "source": [
    "# 2\n",
    "def Decrypt(ciphertext, p, q, exponent):\n",
    "    phi = (p-1)*(q-1)\n",
    "    d = InvertModulo(exponent, phi)\n",
    "    return ConvertToStr(PowMod(ciphertext, d, p * q))\n",
    "  \n",
    "a = 3\n",
    "b = 7\n",
    "c = InvertModulo(a, b)\n",
    "print(c)\n",
    "\n",
    "p = 1000000007\n",
    "q = 1000000009\n",
    "exponent = 23917\n",
    "modulo = p * q\n",
    "\n",
    "ciphertext = Encrypt(\"attack\", modulo, exponent)\n",
    "message = Decrypt(ciphertext, p, q, exponent)\n",
    "print(message)"
   ]
  },
  {
   "cell_type": "code",
   "execution_count": null,
   "metadata": {},
   "outputs": [],
   "source": [
    "# 3\n",
    "def DecipherSimple(ciphertext, modulo, exponent, potential_messages):\n",
    "    for message in potential_messages:\n",
    "        if ciphertext == Encrypt(message, modulo, exponent):\n",
    "            return message\n",
    "    return \"don't know\"\n",
    "\n",
    "modulo = 101\n",
    "exponent = 12\n",
    "ciphertext = Encrypt(\"attack\", modulo, exponent)\n",
    "print(ciphertext)\n",
    "print(DecipherSimple(ciphertext, modulo, exponent, [\"attack\", \"don't attack\", \"wait\"]))"
   ]
  },
  {
   "cell_type": "code",
   "execution_count": 20,
   "metadata": {},
   "outputs": [
    {
     "name": "stdout",
     "output_type": "stream",
     "text": [
      "https://docs.google.com/document/d/1kubEo4ODZ_1YZl8Hvi9_\n"
     ]
    }
   ],
   "source": [
    "# 4\n",
    "def DecipherSmallPrime(ciphertext, modulo, exponent):\n",
    "    small_prime = 2\n",
    "    while small_prime <= 1000000:\n",
    "        if modulo % small_prime == 0:\n",
    "            big_prime = modulo // small_prime\n",
    "            m = Decrypt(ciphertext, small_prime, big_prime, exponent)\n",
    "            return m\n",
    "        small_prime += 1\n",
    "    return \"don't know\"\n",
    "\n",
    "#modulo = 101 * 18298970732541109011012304219376080251334480295537316123696052970419466495220522723330315111017831737980079504337868198011077274303193766040393009648852841770668239779097280026631944319501437547002412556176186750790476901358334138818777298389724049250700606462316428106882097210008142941838672676714188593227684360287806974345181893018133710957167334490627178666071809992955566020058374505477745993383434501768887090900283569055646901291270870833498474402084748161755197005050874785474707550376333429671113753137201128897550014524209754619355308207537703754006699795711188492048286436285518105948050401762394690148387\n",
    "#exponent = 239\n",
    "#ciphertext = Encrypt(\"attack\", modulo, exponent)\n",
    "#print(DecipherSmallPrime(ciphertext, modulo, exponent))\n",
    "ciphertext = 2275574988111277110437311214647848935000427550724521671610776681372035260669927879546598212402059626568529572296378786125308417822064565716822176055495534704248368924219660507214955218285229437531331022539446136060045737304497347919927268903882567968402406701512120140117419155759639779776379512631504909857\n",
    "\n",
    "modulo = 4517997441484302732739462818197633745340869919448215356148620255867108411028738486895653782573554891335084161684285442351914740415677262295900238601126392055761648706990593425725625329173683080677363007706828763867611649178136159927562319810830366004181626803874119100160889961902072311468445073289996506931\n",
    "\n",
    "exponent = 1927740953777951565602110467665746890410015037617105427402060961409149865403375973001399584612131360178672080227818127622463053259278787951537329431243\n",
    "\n",
    "decrypt_third_puzzle = DecipherSmallPrime(ciphertext, modulo, exponent)\n",
    "print(decrypt_third_puzzle)"
   ]
  },
  {
   "cell_type": "code",
   "execution_count": 22,
   "metadata": {},
   "outputs": [
    {
     "name": "stdout",
     "output_type": "stream",
     "text": [
      "attack\n"
     ]
    }
   ],
   "source": [
    "# 5\n",
    "def IntSqrt(n):\n",
    "    low = 1\n",
    "    high = n\n",
    "    iterations = 0\n",
    "    while low < high and iterations < 5000:\n",
    "        iterations += 1\n",
    "        mid = (low + high + 1) // 2\n",
    "        if mid * mid <= n:\n",
    "            low = mid\n",
    "        else:\n",
    "            high = mid - 1\n",
    "    return low\n",
    "\n",
    "def DecipherSmallDiff(ciphertext, modulo, exponent):\n",
    "    sqrt_modulo = IntSqrt(modulo)\n",
    "    small_prime = sqrt_modulo\n",
    "    while small_prime > sqrt_modulo - 5000:\n",
    "        if modulo % small_prime == 0:\n",
    "            big_prime = modulo // small_prime \n",
    "            m = Decrypt(ciphertext, small_prime, big_prime, exponent)\n",
    "            return m\n",
    "        small_prime-=1\n",
    "    return \"don't know\"\n",
    "  \n",
    "p = 1000000007\n",
    "q = 1000000009\n",
    "n = p * q\n",
    "e = 239\n",
    "ciphertext = Encrypt(\"attack\", n, e)\n",
    "message = DecipherSmallDiff(ciphertext, n, e)\n",
    "print(message)"
   ]
  },
  {
   "cell_type": "code",
   "execution_count": 25,
   "metadata": {},
   "outputs": [
    {
     "name": "stdout",
     "output_type": "stream",
     "text": [
      "('Baby', 'Long')\n"
     ]
    }
   ],
   "source": [
    "# 6\n",
    "def GCD(a, b):\n",
    "    if b == 0:\n",
    "        return a\n",
    "    return GCD(b, a % b)\n",
    "\n",
    "def DecipherCommonDivisor(first_ciphertext, first_modulo, first_exponent, second_ciphertext, second_modulo, second_exponent):\n",
    "  # Fix this implementation to correctly decipher both messages in case\n",
    "  # first_modulo and second_modulo share a prime factor, and return\n",
    "  # a pair (first_message, second_message). The implementation below won't work\n",
    "  # if the common_prime is bigger than 1000000.\n",
    "    common_prime = GCD(first_modulo, second_modulo)\n",
    "    q1 = first_modulo // common_prime\n",
    "    q2 = second_modulo // common_prime\n",
    "    m1 = Decrypt(first_ciphertext, common_prime, q1, first_exponent)\n",
    "    m2 = Decrypt(second_ciphertext, common_prime, q2, second_exponent)\n",
    "    return (m1, m2)\n",
    "  \n",
    "# Example usage with common prime p and different second primes q1 and q2  \n",
    "p = 101\n",
    "q1 = 18298970732541109011012304219376080251334480295537316123696052970419466495220522723330315111017831737980079504337868198011077274303193766040393009648852841770668239779097280026631944319501437547002412556176186750790476901358334138818777298389724049250700606462316428106882097210008142941838672676714188593227684360287806974345181893018133710957167334490627178666071809992955566020058374505477745993383434501768887090900283569055646901291270870833498474402084748161755197005050874785474707550376333429671113753137201128897550014524209754619355308207537703754006699795711188492048286436285518105948050401762394690148387\n",
    "q2 = 1000000007\n",
    "first_modulo = p * q1\n",
    "second_modulo = p * q2\n",
    "first_exponent = 239\n",
    "second_exponent = 17\n",
    "first_ciphertext = Encrypt(\"Baby\", first_modulo, first_exponent)\n",
    "second_ciphertext = Encrypt(\"Long\", second_modulo, second_exponent)\n",
    "print(DecipherCommonDivisor(first_ciphertext, first_modulo, first_exponent, second_ciphertext, second_modulo, second_exponent))"
   ]
  },
  {
   "cell_type": "code",
   "execution_count": 27,
   "metadata": {},
   "outputs": [
    {
     "name": "stdout",
     "output_type": "stream",
     "text": [
      "attack\n"
     ]
    }
   ],
   "source": [
    "# 7\n",
    "def ChineseRemainderTheorem(n1, r1, n2, r2):\n",
    "    (x, y) = ExtendedEuclid(n1, n2)\n",
    "    return ((r2 * x * n1 + r1 * y * n2) % (n1 * n2) + (n1 * n2)) % (n1 * n2)\n",
    "\n",
    "def DecipherHastad(first_ciphertext, first_modulo, second_ciphertext, second_modulo):\n",
    "    r = ChineseRemainderTheorem(first_modulo, first_ciphertext, second_modulo, second_ciphertext)\n",
    "    return ConvertToStr(IntSqrt(r))\n",
    "  \n",
    "p1 = 790383132652258876190399065097\n",
    "q1 = 662503581792812531719955475509\n",
    "p2 = 656917682542437675078478868539\n",
    "q2 = 1263581691331332127259083713503\n",
    "n1 = p1 * q1\n",
    "n2 = p2 * q2\n",
    "ciphertext1 = Encrypt(\"attack\", n1, 2)\n",
    "ciphertext2 = Encrypt(\"attack\", n2, 2)\n",
    "message = DecipherHastad(ciphertext1, n1, ciphertext2, n2)\n",
    "print(message)"
   ]
  },
  {
   "cell_type": "code",
   "execution_count": 3,
   "metadata": {},
   "outputs": [
    {
     "data": {
      "text/plain": [
       "True"
      ]
     },
     "execution_count": 3,
     "metadata": {},
     "output_type": "execute_result"
    }
   ],
   "source": [
    "\"ACaucusRaceandaLongTale\".isalpha()"
   ]
  },
  {
   "cell_type": "code",
   "execution_count": null,
   "metadata": {},
   "outputs": [],
   "source": []
  }
 ],
 "metadata": {
  "kernelspec": {
   "display_name": "Python 3",
   "language": "python",
   "name": "python3"
  },
  "language_info": {
   "codemirror_mode": {
    "name": "ipython",
    "version": 3
   },
   "file_extension": ".py",
   "mimetype": "text/x-python",
   "name": "python",
   "nbconvert_exporter": "python",
   "pygments_lexer": "ipython3",
   "version": "3.8.3"
  }
 },
 "nbformat": 4,
 "nbformat_minor": 4
}
