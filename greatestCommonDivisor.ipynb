{
 "cells": [
  {
   "cell_type": "markdown",
   "metadata": {},
   "source": [
    "# Greatest Common Divisor: Code"
   ]
  },
  {
   "cell_type": "markdown",
   "metadata": {},
   "source": [
    "## 1. Naive algorithm:"
   ]
  },
  {
   "cell_type": "code",
   "execution_count": null,
   "metadata": {},
   "outputs": [],
   "source": [
    "def gcd(a, b):\n",
    "  assert a >= 0 and b >= 0 and a + b > 0\n",
    "\n",
    "  if a == 0 or b == 0:\n",
    "    return max(a, b)\n",
    "\n",
    "  for d in range(min(a, b), 0, -1):\n",
    "    if a % d == 0 and b % d == 0:\n",
    "      return d\n",
    "\n",
    "  return 1\n",
    "\n",
    "print(gcd(0, 1))\n",
    "print(gcd(24, 16))\n",
    "# The following call would take too long\n",
    "#print(gcd(790933790547, 1849639579327))"
   ]
  },
  {
   "cell_type": "markdown",
   "metadata": {},
   "source": [
    "## 2. Euclid's algorithm, slow implementation:"
   ]
  },
  {
   "cell_type": "code",
   "execution_count": null,
   "metadata": {},
   "outputs": [],
   "source": [
    "def gcd(a, b):\n",
    "  assert a >= 0 and b >= 0 and a + b > 0\n",
    "\n",
    "  while a > 0 and b > 0:\n",
    "    if a >= b:\n",
    "      a = a - b\n",
    "    else:\n",
    "      b = b - a\n",
    "\n",
    "  return max(a, b)\n",
    "\n",
    "\n",
    "print(gcd(24, 16))\n",
    "print(gcd(790933790547, 1849639579327))\n",
    "# The following call would take too long\n",
    "#print(gcd(790933790548, 2))"
   ]
  },
  {
   "cell_type": "markdown",
   "metadata": {},
   "source": [
    "## 3. Euclid's algorithm, efficient implementation:"
   ]
  },
  {
   "cell_type": "code",
   "execution_count": null,
   "metadata": {},
   "outputs": [],
   "source": [
    "def gcd(a, b):\n",
    "  assert a >= 0 and b >= 0 and a + b > 0\n",
    "\n",
    "  while a > 0 and b > 0:\n",
    "    if a >= b:\n",
    "      a = a % b\n",
    "    else:\n",
    "      b = b % a\n",
    "\n",
    "  return max(a, b)"
   ]
  },
  {
   "cell_type": "code",
   "execution_count": null,
   "metadata": {},
   "outputs": [],
   "source": [
    "# Simpler Version\n",
    "def gcd(a, b):\n",
    "    if b == 0:\n",
    "        return a\n",
    "    return gcd(b,a%b)"
   ]
  },
  {
   "cell_type": "markdown",
   "metadata": {},
   "source": [
    "## 4. Extended Euclid's Algorithm"
   ]
  },
  {
   "cell_type": "code",
   "execution_count": 3,
   "metadata": {},
   "outputs": [
    {
     "data": {
      "text/plain": [
       "(1, -37, 44)"
      ]
     },
     "execution_count": 3,
     "metadata": {},
     "output_type": "execute_result"
    }
   ],
   "source": [
    "def extended_gcd(a, b):\n",
    "  assert a >= b and b >= 0 and a + b > 0\n",
    "\n",
    "  if b == 0:\n",
    "    d, x, y = a, 1, 0\n",
    "  else:\n",
    "    (d, p, q) = extended_gcd(b, a % b)\n",
    "    x = q\n",
    "    y = p - q * (a // b)\n",
    "\n",
    "  assert a % d == 0 and b % d == 0\n",
    "  assert d == a * x + b * y\n",
    "  return (d, x, y)\n",
    "\n",
    "extended_gcd(10,6)\n",
    "extended_gcd(7,5)\n",
    "extended_gcd(391,299)\n",
    "extended_gcd(239,201)"
   ]
  },
  {
   "cell_type": "code",
   "execution_count": 5,
   "metadata": {},
   "outputs": [
    {
     "data": {
      "text/plain": [
       "(1, 640, -26759209305514907)"
      ]
     },
     "execution_count": 5,
     "metadata": {},
     "output_type": "execute_result"
    }
   ],
   "source": [
    "p = 1000000007\n",
    "q = 1000000009\n",
    "exponent = 23917\n",
    "phi = (p-1)*(q-1)\n",
    "extended_gcd(phi, exponent)"
   ]
  },
  {
   "cell_type": "code",
   "execution_count": null,
   "metadata": {},
   "outputs": [],
   "source": []
  }
 ],
 "metadata": {
  "kernelspec": {
   "display_name": "Python 3",
   "language": "python",
   "name": "python3"
  },
  "language_info": {
   "codemirror_mode": {
    "name": "ipython",
    "version": 3
   },
   "file_extension": ".py",
   "mimetype": "text/x-python",
   "name": "python",
   "nbconvert_exporter": "python",
   "pygments_lexer": "ipython3",
   "version": "3.8.3"
  }
 },
 "nbformat": 4,
 "nbformat_minor": 4
}
